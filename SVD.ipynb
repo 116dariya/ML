{
 "cells": [
  {
   "cell_type": "code",
   "execution_count": 15,
   "metadata": {},
   "outputs": [],
   "source": [
    "from math import sqrt\n",
    "from numpy import diag\n",
    "from scipy.linalg import svd"
   ]
  },
  {
   "cell_type": "code",
   "execution_count": 16,
   "metadata": {},
   "outputs": [
    {
     "name": "stdout",
     "output_type": "stream",
     "text": [
      "[[0.         1.         1.        ]\n",
      " [1.41421356 2.         0.        ]\n",
      " [0.         1.         1.        ]]\n",
      "[[-0.40824829  0.57735027 -0.70710678]\n",
      " [-0.81649658 -0.57735027  0.        ]\n",
      " [-0.40824829  0.57735027  0.70710678]]\n",
      "[[-2.08237690e-16  1.00000000e+00  1.00000000e+00]\n",
      " [ 1.41421356e+00  2.00000000e+00 -1.22305252e-16]\n",
      " [-1.35701937e-16  1.00000000e+00  1.00000000e+00]]\n",
      "[[-4.08248290e-01 -8.66025404e-01 -2.88675135e-01]\n",
      " [-5.77350269e-01 -4.89172797e-17  8.16496581e-01]\n",
      " [-7.07106781e-01  5.00000000e-01 -5.00000000e-01]]\n"
     ]
    }
   ],
   "source": [
    "from numpy import dot\n",
    "from numpy import array\n",
    "B = array([[0, 1, 1], [sqrt(2),2 , 0], [0,1, 1]])\n",
    "print(B)\n",
    "V, d, VT = svd(B)\n",
    "\n",
    "Sigma = diag(d)\n",
    "B = V.dot(Sigma.dot(VT))\n",
    "\n",
    "print(V)\n",
    "print(B)\n",
    "print(VT)"
   ]
  },
  {
   "cell_type": "code",
   "execution_count": null,
   "metadata": {},
   "outputs": [],
   "source": []
  }
 ],
 "metadata": {
  "kernelspec": {
   "display_name": "Python 3",
   "language": "python",
   "name": "python3"
  },
  "language_info": {
   "codemirror_mode": {
    "name": "ipython",
    "version": 3
   },
   "file_extension": ".py",
   "mimetype": "text/x-python",
   "name": "python",
   "nbconvert_exporter": "python",
   "pygments_lexer": "ipython3",
   "version": "3.6.5"
  }
 },
 "nbformat": 4,
 "nbformat_minor": 2
}
